{
 "cells": [
  {
   "cell_type": "code",
   "execution_count": 1,
   "id": "2cdd50e0",
   "metadata": {},
   "outputs": [],
   "source": [
    "lst = [5, 4, 17, 19, 30, 2, 7, 10, 45]"
   ]
  },
  {
   "cell_type": "code",
   "execution_count": 2,
   "id": "0ba19042",
   "metadata": {},
   "outputs": [
    {
     "name": "stdout",
     "output_type": "stream",
     "text": [
      "The sum = 139\n"
     ]
    }
   ],
   "source": [
    "# Q1\n",
    "sum = 0\n",
    "for item in lst:\n",
    "    sum+=item\n",
    "print(\"The sum =\", sum)"
   ]
  },
  {
   "cell_type": "code",
   "execution_count": 3,
   "id": "8d8b3c36",
   "metadata": {},
   "outputs": [
    {
     "name": "stdout",
     "output_type": "stream",
     "text": [
      "The largest number is: 45\n"
     ]
    }
   ],
   "source": [
    "# Q2\n",
    "largest = max(lst)\n",
    "print(\"The largest number is:\", largest)"
   ]
  },
  {
   "cell_type": "code",
   "execution_count": 4,
   "id": "0a4c2271",
   "metadata": {},
   "outputs": [
    {
     "name": "stdout",
     "output_type": "stream",
     "text": [
      "The list containing only even number: [4, 30, 2, 10]\n"
     ]
    }
   ],
   "source": [
    "# Q3\n",
    "new_lst = [ even for even in lst if even % 2 == 0 ]\n",
    "print(\"The list containing only even number:\", new_lst)"
   ]
  },
  {
   "cell_type": "code",
   "execution_count": 5,
   "id": "60edf5c9",
   "metadata": {},
   "outputs": [
    {
     "name": "stdout",
     "output_type": "stream",
     "text": [
      "The new list: [5, 4, 17, 19, 30]\n"
     ]
    }
   ],
   "source": [
    "# Q4\n",
    "questionFourlst = []\n",
    "for i in lst[0:5]:\n",
    "    questionFourlst.append(i)\n",
    "print(\"The new list:\", questionFourlst)"
   ]
  }
 ],
 "metadata": {
  "kernelspec": {
   "display_name": "Python 3 (ipykernel)",
   "language": "python",
   "name": "python3"
  },
  "language_info": {
   "codemirror_mode": {
    "name": "ipython",
    "version": 3
   },
   "file_extension": ".py",
   "mimetype": "text/x-python",
   "name": "python",
   "nbconvert_exporter": "python",
   "pygments_lexer": "ipython3",
   "version": "3.11.3"
  }
 },
 "nbformat": 4,
 "nbformat_minor": 5
}
